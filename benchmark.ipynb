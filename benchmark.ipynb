{
 "cells": [
  {
   "cell_type": "markdown",
   "metadata": {},
   "source": [
    "### Solução"
   ]
  },
  {
   "cell_type": "code",
   "execution_count": 1,
   "metadata": {},
   "outputs": [],
   "source": [
    "import random\n",
    "import math\n",
    "import matplotlib.pyplot as plt\n",
    "import numpy as np"
   ]
  },
  {
   "cell_type": "code",
   "execution_count": 2,
   "metadata": {},
   "outputs": [
    {
     "name": "stdout",
     "output_type": "stream",
     "text": [
      "Parameter 'a': 10\n"
     ]
    }
   ],
   "source": [
    "a = random.uniform(-80, 80)\n",
    "a = 10\n",
    "print(\"Parameter 'a':\", a)\n",
    "n = 30\n",
    "\n",
    "\n",
    "def objective_function(x):\n",
    "    y = 0\n",
    "    for i in range(30):\n",
    "        y = y + math.pow(x[0]-a, 2)\n",
    "    return y\n",
    "\n",
    "\n",
    "bounds = [(-100, 100)]   # upper and lower bounds of variables\n",
    "nv = len(bounds)          # number of variables\n",
    "mm = -1                   # if minimization problem, mm = -1; if maximization problem, mm = 1\n",
    "\n",
    "\n",
    "particle_size = 100         # number of particles\n",
    "iterations = 20           # max number of iterations\n",
    "w = 0.85                    # inertia constant\n",
    "c1 = 1                    # cognative constant\n",
    "c2 = 2                     # social constant"
   ]
  },
  {
   "cell_type": "code",
   "execution_count": 3,
   "metadata": {},
   "outputs": [],
   "source": [
    "psize10 = []\n",
    "psize100 = []\n",
    "psize1000 = []"
   ]
  },
  {
   "cell_type": "code",
   "execution_count": 4,
   "metadata": {},
   "outputs": [],
   "source": [
    "class Particle:\n",
    "    def __init__(self, bounds):\n",
    "        self.particle_position = []                     # particle position\n",
    "        self.particle_velocity = []                     # particle velocity\n",
    "        self.local_best_particle_position = []          # best position of the particle\n",
    "        # initial objective function value of the best particle position\n",
    "        self.fitness_local_best_particle_position = initial_fitness\n",
    "        # objective function value of the particle position\n",
    "        self.fitness_particle_position = initial_fitness\n",
    "\n",
    "        for i in range(nv):\n",
    "            # generate random initial position\n",
    "            #self.particle_position.append(\n",
    "                #random.uniform(bounds[i][0], bounds[i][1]))\n",
    "            self.particle_position = [50.0]\n",
    "            # generate random initial velocity\n",
    "            self.particle_velocity.append(random.uniform(-1, 1))\n",
    "\n",
    "    def evaluate(self, objective_function):\n",
    "        self.fitness_particle_position = objective_function(\n",
    "            self.particle_position)\n",
    "        if mm == -1:\n",
    "            if self.fitness_particle_position < self.fitness_local_best_particle_position:\n",
    "                # update the local best\n",
    "                self.local_best_particle_position = self.particle_position\n",
    "                # update the fitness of the local best\n",
    "                self.fitness_local_best_particle_position = self.fitness_particle_position\n",
    "        if mm == 1:\n",
    "            if self.fitness_particle_position > self.fitness_local_best_particle_position:\n",
    "                # update the local best\n",
    "                self.local_best_particle_position = self.particle_position\n",
    "                # update the fitness of the local best\n",
    "                self.fitness_local_best_particle_position = self.fitness_particle_position\n",
    "\n",
    "    def update_velocity(self, global_best_particle_position):\n",
    "        for i in range(nv):\n",
    "            r1 = random.random()\n",
    "            r2 = random.random()\n",
    "\n",
    "            cognitive_velocity = c1*r1 * \\\n",
    "                (self.local_best_particle_position[i] -\n",
    "                 self.particle_position[i])\n",
    "            social_velocity = c2*r2 * \\\n",
    "                (global_best_particle_position[i] - self.particle_position[i])\n",
    "            self.particle_velocity[i] = w*self.particle_velocity[i] + \\\n",
    "                cognitive_velocity + social_velocity\n",
    "\n",
    "    def update_position(self, bounds):\n",
    "        for i in range(nv):\n",
    "            self.particle_position[i] = self.particle_position[i] + \\\n",
    "                self.particle_velocity[i]\n",
    "\n",
    "            # check and repair to satisfy the upper bounds\n",
    "            if self.particle_position[i] > bounds[i][1]:\n",
    "                self.particle_position[i] = bounds[i][1]\n",
    "            # check and repair to satisfy the lower bounds\n",
    "            if self.particle_position[i] < bounds[i][0]:\n",
    "                self.particle_position[i] = bounds[i][0]\n",
    "\n",
    "\n",
    "class PSO():\n",
    "    def __init__(self, objective_function, bounds, particle_size, iterations):\n",
    "\n",
    "        fitness_global_best_particle_position = initial_fitness\n",
    "        global_best_particle_position = []\n",
    "\n",
    "        swarm_particle = []\n",
    "        for i in range(particle_size):\n",
    "            swarm_particle.append(Particle(bounds))\n",
    "\n",
    "        for i in range(iterations):\n",
    "            for j in range(particle_size):\n",
    "                swarm_particle[j].evaluate(objective_function)\n",
    "\n",
    "                if mm == -1:\n",
    "                    if swarm_particle[j].fitness_particle_position < fitness_global_best_particle_position:\n",
    "                        global_best_particle_position = list(\n",
    "                            swarm_particle[j].particle_position)\n",
    "                        fitness_global_best_particle_position = float(\n",
    "                            swarm_particle[j].fitness_particle_position)\n",
    "                if mm == 1:\n",
    "                    if swarm_particle[j].fitness_particle_position > fitness_global_best_particle_position:\n",
    "                        global_best_particle_position = list(\n",
    "                            swarm_particle[j].particle_position)\n",
    "                        fitness_global_best_particle_position = float(\n",
    "                            swarm_particle[j].fitness_particle_position)\n",
    "            for j in range(particle_size):\n",
    "                swarm_particle[j].update_velocity(\n",
    "                    global_best_particle_position)\n",
    "                swarm_particle[j].update_position(bounds)\n",
    "\n",
    "            # record the best fitness\n",
    "            if(particle_size == 10):\n",
    "                psize10.append(fitness_global_best_particle_position)\n",
    "            elif(particle_size == 100):\n",
    "                psize100.append(fitness_global_best_particle_position)\n",
    "            elif(particle_size == 1000):\n",
    "                psize1000.append(fitness_global_best_particle_position)\n",
    "\n",
    "        print('Optimal solution:', global_best_particle_position)\n",
    "        print('Objective function value:',\n",
    "              fitness_global_best_particle_position)\n",
    "        print('Evolutionary process of the objective function value:')"
   ]
  },
  {
   "cell_type": "code",
   "execution_count": 5,
   "metadata": {
    "scrolled": true
   },
   "outputs": [],
   "source": [
    "# ------------------------------------------------------------------------------\n",
    "if mm == -1:\n",
    "    initial_fitness = float(\"inf\")  # for minimization problem\n",
    "if mm == 1:\n",
    "    initial_fitness = -float(\"inf\")  # for maximization problem\n",
    "# ------------------------------------------------------------------------------\n",
    "# Main PSO\n",
    "#PSO(objective_function, bounds, 100, iterations)"
   ]
  },
  {
   "cell_type": "markdown",
   "metadata": {},
   "source": [
    "### Benchmark"
   ]
  },
  {
   "cell_type": "code",
   "execution_count": 6,
   "metadata": {},
   "outputs": [
    {
     "name": "stdout",
     "output_type": "stream",
     "text": [
      "Optimal solution: [10.431259233848582]\n",
      "Objective function value: 5.579535803389984\n",
      "Evolutionary process of the objective function value:\n",
      "Optimal solution: [10.001453403935685]\n",
      "Objective function value: 6.337149000790498e-05\n",
      "Evolutionary process of the objective function value:\n",
      "Optimal solution: [9.997600825750645]\n",
      "Objective function value: 0.0001726811123630416\n",
      "Evolutionary process of the objective function value:\n"
     ]
    },
    {
     "data": {
      "image/png": "[encoded data removed]",
      "text/plain": [
       "<Figure size 432x288 with 1 Axes>"
      ]
     },
     "metadata": {
      "needs_background": "light"
     },
     "output_type": "display_data"
    }
   ],
   "source": [
    "PSO(objective_function, bounds, 10, iterations)\n",
    "PSO(objective_function, bounds, 100, iterations)\n",
    "PSO(objective_function, bounds, 1000, iterations)\n",
    "    \n",
    "plt.plot(np.arange(1, len(psize10)+1),\n",
    "             psize10, 'r--', label='10 particles')\n",
    "plt.plot(np.arange(1, len(psize100)+1),\n",
    "             psize100, 'b--', label='100 particles')\n",
    "plt.plot(np.arange(1, len(psize1000)+1),\n",
    "             psize1000, 'y--', label='1000 particles')\n",
    "plt.title(\"Optimal solution\")\n",
    "plt.ylabel('Objective function value')\n",
    "plt.xlabel('Number of iterations')\n",
    "plt.xticks(np.arange(0, 21, step=2))\n",
    "plt.legend()\n",
    "plt.show()"
   ]
  }
 ],
 "metadata": {
  "kernelspec": {
   "display_name": "Python 3.7.6 64-bit",
   "language": "python",
   "name": "python37664bitc027470a8fb342f0ac482ac22a29b1f4"
  },
  "language_info": {
   "codemirror_mode": {
    "name": "ipython",
    "version": 3
   },
   "file_extension": ".py",
   "mimetype": "text/x-python",
   "name": "python",
   "nbconvert_exporter": "python",
   "pygments_lexer": "ipython3",
   "version": "3.7.6"
  }
 },
 "nbformat": 4,
 "nbformat_minor": 4
}
